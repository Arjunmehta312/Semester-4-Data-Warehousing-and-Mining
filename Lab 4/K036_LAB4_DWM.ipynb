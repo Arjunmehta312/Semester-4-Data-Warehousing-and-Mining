{
 "cells": [
  {
   "cell_type": "markdown",
   "id": "4df56a3e",
   "metadata": {},
   "source": [
    "# Python Libraries: Numpy, Pandas, NLTK, Scikit-learn\n",
    "\n",
    "This notebook provides an overview of four essential Python libraries for data science and machine learning: **Numpy**, **Pandas**, **NLTK**, and **Scikit-learn**. Each section covers the significance, key functions, and example code for using these libraries.\n",
    "\n",
    "## 1. Numpy\n",
    "\n",
    "### Significance\n",
    "Numpy is the core library for numerical and matrix operations in Python. It supports large multi-dimensional arrays and matrices, and provides a collection of mathematical functions to operate on these arrays. It is heavily used in data science, machine learning, and scientific computing.\n",
    "\n",
    "### Functions/Features\n",
    "- Array Creation (ndarray)\n",
    "- Mathematical operations on arrays\n",
    "- Linear Algebra, Trigonometric, and Statistical functions\n",
    "- Random sampling and number generation\n",
    "- Array manipulation (reshaping, stacking, etc.)\n",
    "\n",
    "### Example Code:\n",
    "```python\n",
    "import numpy as np\n",
    "\n",
    "# Creating a 2D Numpy array\n",
    "array = np.array([[1, 2, 3], [4, 5, 6]])\n",
    "\n",
    "# Array operations\n",
    "sum_array = np.sum(array)  # Summing all elements in the array\n",
    "mean_array = np.mean(array)  # Calculating the mean of array elements\n",
    "\n",
    "print(\"Array:\\n\", array)\n",
    "print(\"Sum of all elements:\", sum_array)\n",
    "print(\"Mean of array elements:\", mean_array)\n"
   ]
  },
  {
   "cell_type": "code",
   "execution_count": 1,
   "id": "de2adb1b",
   "metadata": {},
   "outputs": [
    {
     "name": "stdout",
     "output_type": "stream",
     "text": [
      "Array:\n",
      " [[1 2 3]\n",
      " [4 5 6]]\n",
      "Sum of all elements: 21\n",
      "Mean of array elements: 3.5\n"
     ]
    }
   ],
   "source": [
    "import numpy as np\n",
    "\n",
    "# Creating a 2D Numpy array\n",
    "array = np.array([[1, 2, 3], [4, 5, 6]])\n",
    "\n",
    "# Array operations\n",
    "sum_array = np.sum(array)  # Summing all elements in the array\n",
    "mean_array = np.mean(array)  # Calculating the mean of array elements\n",
    "\n",
    "print(\"Array:\\n\", array)\n",
    "print(\"Sum of all elements:\", sum_array)\n",
    "print(\"Mean of array elements:\", mean_array)"
   ]
  },
  {
   "cell_type": "code",
   "execution_count": 2,
   "id": "a77923b5",
   "metadata": {},
   "outputs": [
    {
     "name": "stdout",
     "output_type": "stream",
     "text": [
      "DataFrame:\n",
      "       Name  Age         City\n",
      "0    Alice   25     New York\n",
      "1      Bob   30  Los Angeles\n",
      "2  Charlie   35      Chicago\n",
      "Mean Age: 30.0\n",
      "City count:\n",
      " New York       1\n",
      "Los Angeles    1\n",
      "Chicago        1\n",
      "Name: City, dtype: int64\n"
     ]
    }
   ],
   "source": [
    "import pandas as pd\n",
    "\n",
    "# Creating a DataFrame\n",
    "data = {'Name': ['Alice', 'Bob', 'Charlie'],\n",
    "        'Age': [25, 30, 35],\n",
    "        'City': ['New York', 'Los Angeles', 'Chicago']}\n",
    "df = pd.DataFrame(data)\n",
    "\n",
    "# Basic operations\n",
    "mean_age = df['Age'].mean()  # Calculating mean age\n",
    "city_count = df['City'].value_counts()  # Count occurrences of cities\n",
    "\n",
    "print(\"DataFrame:\\n\", df)\n",
    "print(\"Mean Age:\", mean_age)\n",
    "print(\"City count:\\n\", city_count)"
   ]
  },
  {
   "cell_type": "code",
   "execution_count": 4,
   "id": "08217a44",
   "metadata": {},
   "outputs": [
    {
     "name": "stderr",
     "output_type": "stream",
     "text": [
      "[nltk_data] Downloading package punkt to\n",
      "[nltk_data]     C:\\Users\\mpstme.student\\AppData\\Roaming\\nltk_data...\n",
      "[nltk_data]   Unzipping tokenizers\\punkt.zip.\n"
     ]
    },
    {
     "data": {
      "text/plain": [
       "True"
      ]
     },
     "execution_count": 4,
     "metadata": {},
     "output_type": "execute_result"
    }
   ],
   "source": [
    "import nltk\n",
    "nltk.download('punkt')"
   ]
  },
  {
   "cell_type": "code",
   "execution_count": 5,
   "id": "c4e6841a",
   "metadata": {},
   "outputs": [
    {
     "name": "stdout",
     "output_type": "stream",
     "text": [
      "Tokenized Words: ['Hello', ',', 'how', 'are', 'you', 'doing', 'today', '?']\n"
     ]
    }
   ],
   "source": [
    "import nltk\n",
    "from nltk.tokenize import word_tokenize\n",
    "\n",
    "# Example text\n",
    "text = \"Hello, how are you doing today?\"\n",
    "\n",
    "# Tokenize text into words\n",
    "words = word_tokenize(text)\n",
    "\n",
    "print(\"Tokenized Words:\", words)"
   ]
  },
  {
   "cell_type": "code",
   "execution_count": 6,
   "id": "4c2d5287",
   "metadata": {},
   "outputs": [
    {
     "name": "stdout",
     "output_type": "stream",
     "text": [
      "Model Accuracy: 1.0\n"
     ]
    }
   ],
   "source": [
    "from sklearn.datasets import load_iris\n",
    "from sklearn.model_selection import train_test_split\n",
    "from sklearn.svm import SVC\n",
    "from sklearn.metrics import accuracy_score\n",
    "\n",
    "# Load dataset\n",
    "iris = load_iris()\n",
    "X = iris.data\n",
    "y = iris.target\n",
    "\n",
    "# Split data into training and test sets\n",
    "X_train, X_test, y_train, y_test = train_test_split(X, y, test_size=0.3, random_state=42)\n",
    "\n",
    "# Create a SVM classifier\n",
    "clf = SVC()\n",
    "\n",
    "# Train the model\n",
    "clf.fit(X_train, y_train)\n",
    "\n",
    "# Make predictions\n",
    "y_pred = clf.predict(X_test)\n",
    "\n",
    "# Evaluate model performance\n",
    "accuracy = accuracy_score(y_test, y_pred)\n",
    "print(\"Model Accuracy:\", accuracy)"
   ]
  }
 ],
 "metadata": {
  "kernelspec": {
   "display_name": "Python 3 (ipykernel)",
   "language": "python",
   "name": "python3"
  },
  "language_info": {
   "codemirror_mode": {
    "name": "ipython",
    "version": 3
   },
   "file_extension": ".py",
   "mimetype": "text/x-python",
   "name": "python",
   "nbconvert_exporter": "python",
   "pygments_lexer": "ipython3",
   "version": "3.9.7"
  }
 },
 "nbformat": 4,
 "nbformat_minor": 5
}
